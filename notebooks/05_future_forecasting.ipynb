{
 "cells": [
  {
   "cell_type": "markdown",
   "metadata": {},
   "source": [
    "# Future Sales Forecasting"
   ]
  },
  {
   "cell_type": "markdown",
   "metadata": {},
   "source": [
    "This notebook uses the best trained model to forecast future sales."
   ]
  },
  {
   "cell_type": "markdown",
   "metadata": {},
   "source": [
    "## 1. User Instructions"
   ]
  },
  {
   "cell_type": "markdown",
   "metadata": {},
   "source": [
    "### How to Use This Notebook:\n",
    "1.  **Modify `forecast_periods`:** In Section 4, change the value of `forecast_periods` to the desired number of days you want to forecast into the future (e.g., 30 for one month, 90 for a quarter).\n",
    "2.  **Run All Cells:** From the menu, select \"Cell\" > \"Run All\" to execute the entire notebook.\n",
    "3.  **Interpret the Output:**\n",
    "    *   **Forecast Plot (Section 7):** This plot shows historical sales data followed by the forecasted sales values. If available, confidence intervals will also be displayed, giving a range of likely sales values.\n",
    "    *   **Forecasted Data Table (Section 8):** This table provides the exact forecasted sales figures for each future date.\n",
    "\n",
    "### Model Information:\n",
    "*   **Model Used:** The model loaded in this notebook is the 'best' model identified during the training and evaluation phase (Notebooks 03 and 04). This could be SARIMA, Holt-Winters, or a regression model like Random Forest.\n",
    "*   **Training Data:** The model was trained on historical sales data, potentially using features engineered from dates (year, month, day of week), lags of sales, and rolling mean sales figures. For time series models like SARIMA, it was trained on daily aggregated sales.\n",
    "\n",
    "### Limitations and Assumptions:\n",
    "*   **Exogenous Variables:** If the model (e.g., SARIMA with exogenous variables - SARIMAX) requires external information (like future promotions, holidays, economic indicators) that were part of its training, these must be accurately provided for the forecast period. This notebook primarily focuses on time-based exogenous features (Year, Month, DayOfWeek, etc.) if needed. If the model relies on future values of sales lags or rolling means *as exogenous inputs* (which is less common for standard SARIMA `predict` methods but possible if manually constructed), forecasting them accurately is a complex task in itself and might involve simpler assumptions for this notebook.\n",
    "*   **Model Accuracy:** Forecasts are estimates. The accuracy depends on the model's performance and how much the future behavior of sales resembles past patterns. Unexpected events can significantly impact actual sales.\n",
    "*   **Confidence Intervals:** If shown, these represent a statistical range. Wider intervals indicate more uncertainty in the forecast.\n",
    "*   **Dummy Model Note:** Currently, a placeholder (dummy) model might be in use if the actual best model wasn't successfully saved or is of an unexpected type. The predictions from a dummy model are not meaningful for business decisions."
   ]
  },
  {
   "cell_type": "markdown",
   "metadata": {},
   "source": [
    "## 2. Import Libraries"
   ]
  },
  {
   "cell_type": "code",
   "execution_count": null,
   "metadata": {},
   "outputs": [],
   "source": [
    "import pandas as pd\n",
    "import numpy as np\n",
    "import matplotlib.pyplot as plt\n",
    "import joblib\n",
    "import os\n",
    "from datetime import timedelta\n",
    "\n",
    "# Potentially needed for SARIMA or other statsmodels objects\n",
    "from statsmodels.tsa.base.datetools import dates_from_str\n",
    "from statsmodels.tsa.statespace.sarimax import SARIMAXResults\n",
    "from sklearn.linear_model import LinearRegression # For dummy model type check\n",
    "\n",
    "plt.style.use('ggplot')\n",
    "sns.set_style('whitegrid') # Requires import seaborn as sns, which is good practice"
   ]
  },
  {
   "cell_type": "markdown",
   "metadata": {},
   "source": [
    "## 3. Load the Trained Model"
   ]
  },
  {
   "cell_type": "code",
   "execution_count": null,
   "metadata": {},
   "outputs": [],
   "source": [
    "model_filename = 'best_sales_forecasting_model_sarima.joblib'\n",
    "model_path = os.path.join('../models', model_filename) # Standardized path\n",
    "\n",
    "try:\n",
    "    loaded_model = joblib.load(model_path)\n",
    "    print(f\"Model loaded successfully from: {model_path}\")\n",
    "    print(f\"Model type: {type(loaded_model)}\")\n",
    "except FileNotFoundError:\n",
    "    print(f\"Error: Model file not found at {model_path}.\")\n",
    "    print(\"Please ensure the model has been trained and saved correctly in the 'models' directory.\")\n",
    "    # As a fallback for notebook structure, create a dummy model object\n",
    "    loaded_model = LinearRegression() # Dummy model\n",
    "    print(\"Using a DUMMY LinearRegression model as a placeholder.\")\n",
    "except Exception as e:\n",
    "    print(f\"An error occurred while loading the model: {e}\")\n",
    "    loaded_model = LinearRegression() # Dummy model\n",
    "    print(\"Using a DUMMY LinearRegression model as a placeholder due to loading error.\")"
   ]
  },
  {
   "cell_type": "markdown",
   "metadata": {},
   "source": [
    "## 4. Load Historical Data"
   ]
  },
  {
   "cell_type": "code",
   "execution_count": null,
   "metadata": {},
   "outputs": [],
   "source": [
    "data_path = '../data/feature_engineered_sales_data.csv'\n",
    "try:\n",
    "    historical_df = pd.read_csv(data_path, index_col='Order Date', parse_dates=True)\n",
    "    print(\"Historical feature-engineered data loaded successfully.\")\n",
    "    # For forecasting, we typically use the daily aggregated sales if model was trained on it\n",
    "    daily_sales_historical = historical_df['Sales'].resample('D').sum().fillna(0)\n",
    "    print(\"Last 5 observations of daily historical sales:\")\n",
    "    print(daily_sales_historical.tail())\n",
    "except FileNotFoundError:\n",
    "    print(f\"Error: Historical data file not found at {data_path}.\")\n",
    "    # Create dummy historical data for notebook structure\n",
    "    date_rng = pd.date_range(start='2022-01-01', end='2023-12-31', freq='D')\n",
    "    dummy_sales = np.random.randint(50, 500, size=(len(date_rng)))\n",
    "    daily_sales_historical = pd.Series(dummy_sales, index=date_rng)\n",
    "    historical_df = pd.DataFrame({'Sales': daily_sales_historical}) # For consistency\n",
    "    print(\"Using DUMMY historical data.\")\n",
    "    print(daily_sales_historical.tail())"
   ]
  },
  {
   "cell_type": "markdown",
   "metadata": {},
   "source": [
    "## 5. Define Forecasting Parameters"
   ]
  },
  {
   "cell_type": "code",
   "execution_count": null,
   "metadata": {},
   "outputs": [],
   "source": [
    "forecast_periods = 90  # Number of periods to forecast (e.g., 90 days)\n",
    "frequency = 'D'        # Frequency of forecast ('D' for daily, 'W' for weekly, 'M' for monthly)\n",
    "\n",
    "print(f\"Forecasting for {forecast_periods} periods with frequency '{frequency}'.\")"
   ]
  },
  {
   "cell_type": "markdown",
   "metadata": {},
   "source": [
    "## 6. Prepare Exogenous Variables for Forecasting (if applicable)"
   ]
  },
  {
   "cell_type": "markdown",
   "metadata": {},
   "source": [
    "Exogenous variables are external factors that can influence the forecast. If the loaded model (e.g., SARIMAX) was trained using such variables, we need to provide their future values.\n",
    "\n",
    "Common time-based exogenous features include:\n",
    "- Year, Month, Day, DayOfWeek, Quarter, WeekOfYear.\n",
    "\n",
    "**Important Note on Lags/Rolling Means as Exogenous Features:**\n",
    "If the model was trained using `Sales_Lag_X` or `Sales_Rolling_Mean_X` as *exogenous* variables (passed to an `exog` parameter in `SARIMAX.fit()`), providing their true future values is not possible as they depend on future unknown sales. In such cases:\n",
    "1. The model might have been designed to forecast these features iteratively (more complex setup).\n",
    "2. Simpler models might use naive forecasts for these future exogenous sales-based features.\n",
    "3. The `predict` method of standard `statsmodels.tsa.SARIMAXResults` handles its *internal* AR and MA components (lags of errors and series) automatically. It's when *additional, user-defined* sales-based lags are added to `exog` that this becomes an issue.\n",
    "\n",
    "For this notebook, we will primarily focus on generating **time-based exogenous features** if the model seems to require them. The dummy model (`LinearRegression`) loaded currently does not explicitly use named exogenous features in the same way a SARIMAX model does from `statsmodels`. We will proceed with generating time-based features as an example, and then adapt the prediction call."
   ]
  },
  {
   "cell_type": "code",
   "execution_count": null,
   "metadata": {},
   "outputs": [],
   "source": [
    "future_exog_df = None\n",
    "last_historical_date = daily_sales_historical.index.max()\n",
    "\n",
    "# Generate future dates\n",
    "future_date_range = pd.date_range(start=last_historical_date + pd.Timedelta(days=1), \n",
    "                                  periods=forecast_periods, \n",
    "                                  freq=frequency)\n",
    "\n",
    "print(f\"Future date range for forecasting: {future_date_range.min()} to {future_date_range.max()}\")\n",
    "\n",
    "# Example: Creating time-based exogenous features\n",
    "# These would be needed if the model was trained with them (e.g., a SARIMAX model)\n",
    "future_exog_df_example = pd.DataFrame(index=future_date_range)\n",
    "future_exog_df_example['Year'] = future_exog_df_example.index.year\n",
    "future_exog_df_example['Month'] = future_exog_df_example.index.month\n",
    "future_exog_df_example['Day'] = future_exog_df_example.index.day\n",
    "future_exog_df_example['DayOfWeek'] = future_exog_df_example.index.dayofweek\n",
    "future_exog_df_example['Quarter'] = future_exog_df_example.index.quarter\n",
    "future_exog_df_example['WeekOfYear'] = future_exog_df_example.index.isocalendar().week.astype(int)\n",
    "\n",
    "print(\"\\nExample of future time-based exogenous features (first 5 rows):\")\n",
    "print(future_exog_df_example.head())\n",
    "\n",
    "# --- Determine which exogenous features to use based on the loaded model ---\n",
    "# This part is crucial and model-dependent.\n",
    "# If `loaded_model` is a SARIMAXResults object, its `model.exog_names` might tell us what it expects.\n",
    "exog_needed = False\n",
    "if hasattr(loaded_model, 'model') and hasattr(loaded_model.model, 'exog_names') and loaded_model.model.exog_names:\n",
    "    print(f\"\\nModel expects exogenous variables: {loaded_model.model.exog_names}\")\n",
    "    # Select only the required columns from our example future_exog_df\n",
    "    try:\n",
    "        future_exog_df = future_exog_df_example[loaded_model.model.exog_names]\n",
    "        exog_needed = True\n",
    "        print(\"Prepared required exogenous variables for the forecast period.\")\n",
    "    except KeyError as e:\n",
    "        print(f\"KeyError: Could not find all expected exog variables in generated future_exog_df_example: {e}\")\n",
    "        print(\"Forecasting will proceed without exogenous variables, which might fail or be inaccurate.\")\n",
    "        future_exog_df = None # Reset if not all found\n",
    "elif isinstance(loaded_model, LinearRegression): # Our dummy model case\n",
    "    print(\"\\nLoaded model is LinearRegression (dummy). It expects a 2D array for prediction.\")\n",
    "    # The dummy model was trained on a single feature (np.random.rand(100,1)).\n",
    "    # We need to create a similar structure for its predict method.\n",
    "    # This is specific to the DUMMY model and not representative of a real time series model.\n",
    "    future_exog_df = np.random.rand(forecast_periods, 1) # Dummy exog for dummy model\n",
    "    print(\"Created dummy exogenous data for the placeholder LinearRegression model.\")\n",
    "    exog_needed = True # For the dummy model's predict method structure\n",
    "else:\n",
    "    print(\"\\nModel does not seem to specify exogenous variables (or is not a recognized SARIMAX type for exog detection).\")\n",
    "    future_exog_df = None"
   ]
  },
  {
   "cell_type": "markdown",
   "metadata": {},
   "source": [
    "## 7. Generate Forecasts"
   ]
  },
  {
   "cell_type": "code",
   "execution_count": null,
   "metadata": {},
   "outputs": [],
   "source": [
    "forecast_values = None\n",
    "confidence_intervals = None\n",
    "\n",
    "try:\n",
    "    if isinstance(loaded_model, SARIMAXResults): # Check if it's a statsmodels SARIMAX results object\n",
    "        print(\"Generating forecast using SARIMAX model's predict method...\")\n",
    "        # For SARIMAX, predict can take start/end indices relative to the original series, or steps for future\n",
    "        # Using `n_periods` (if available and model was from pmdarima) or by specifying start/end dates/steps\n",
    "        \n",
    "        # Determine the start and end for prediction\n",
    "        # `steps` parameter is often simpler for pure future forecasts if model supports it\n",
    "        # Or, specify date strings for start/end\n",
    "        start_pred_date = future_date_range[0]\n",
    "        end_pred_date = future_date_range[-1]\n",
    "\n",
    "        if exog_needed and future_exog_df is not None:\n",
    "            forecast_object = loaded_model.get_forecast(steps=forecast_periods, exog=future_exog_df)\n",
    "        else:\n",
    "            forecast_object = loaded_model.get_forecast(steps=forecast_periods)\n",
    "            \n",
    "        forecast_values = forecast_object.predicted_mean\n",
    "        confidence_intervals_df = forecast_object.conf_int()\n",
    "        # Ensure forecast_values is a pandas Series with the correct future_date_range index\n",
    "        if not isinstance(forecast_values, pd.Series):\n",
    "            forecast_values = pd.Series(forecast_values, index=future_date_range)\n",
    "        else:\n",
    "            forecast_values.index = future_date_range # Align index just in case\n",
    "        confidence_intervals_df.index = future_date_range\n",
    "        print(\"Forecast generated successfully with confidence intervals.\")\n",
    "\n",
    "    elif isinstance(loaded_model, LinearRegression): # Handling the DUMMY model\n",
    "        print(\"Generating forecast using DUMMY LinearRegression model...\")\n",
    "        # This dummy model expects a 2D array like np.random.rand(n, 1)\n",
    "        if future_exog_df is not None: # This should be the np.random.rand(forecast_periods, 1)\n",
    "            pred_array = loaded_model.predict(future_exog_df)\n",
    "            forecast_values = pd.Series(pred_array, index=future_date_range)\n",
    "            print(\"Forecast generated using dummy model.\")\n",
    "        else:\n",
    "            print(\"Dummy exog data not prepared for dummy LinearRegression. Cannot predict.\")\n",
    "            forecast_values = pd.Series(np.nan, index=future_date_range) # Fill with NaNs\n",
    "        # No confidence intervals for this dummy sklearn model by default\n",
    "        confidence_intervals_df = pd.DataFrame({'lower Sales': np.nan, 'upper Sales': np.nan}, index=future_date_range)\n",
    "\n",
    "    else:\n",
    "        # Fallback for other model types or if model structure is unknown\n",
    "        print(f\"Model type {type(loaded_model)} not explicitly handled for forecasting here. Attempting generic 'predict' or 'forecast'.\")\n",
    "        if hasattr(loaded_model, 'forecast'):\n",
    "            # pmdarima objects might use forecast(steps=forecast_periods, X=future_exog_df)\n",
    "            # statsmodels HoltWintersResults use forecast(steps=forecast_periods)\n",
    "            if exog_needed and future_exog_df is not None:\n",
    "                 # This part needs to be adapted based on how exog was handled in pmdarima for example\n",
    "                try: # pmdarima style\n",
    "                    forecast_values_array, conf_int_array = loaded_model.predict(n_periods=forecast_periods, X=future_exog_df, return_conf_int=True)\n",
    "                    forecast_values = pd.Series(forecast_values_array, index=future_date_range)\n",
    "                    confidence_intervals_df = pd.DataFrame(conf_int_array, index=future_date_range, columns=['lower Sales', 'upper Sales'])\n",
    "                except TypeError: # statsmodels Holt-Winters style (no exog typically)\n",
    "                    forecast_values_array = loaded_model.forecast(steps=forecast_periods)\n",
    "                    forecast_values = pd.Series(forecast_values_array, index=future_date_range)\n",
    "                    # Holt-Winters doesn't directly give conf_int from .forecast() like SARIMA's get_forecast()\n",
    "                    # Simulated confidence intervals might be computed if model has `sse` and `sigma2` attributes\n",
    "                    confidence_intervals_df = pd.DataFrame({'lower Sales': np.nan, 'upper Sales': np.nan}, index=future_date_range)\n",
    "            else:\n",
    "                if hasattr(loaded_model, 'predict') and 'return_conf_int' in loaded_model.predict.__code__.co_varnames: # pmdarima without exog\n",
    "                    forecast_values_array, conf_int_array = loaded_model.predict(n_periods=forecast_periods, return_conf_int=True)\n",
    "                    forecast_values = pd.Series(forecast_values_array, index=future_date_range)\n",
    "                    confidence_intervals_df = pd.DataFrame(conf_int_array, index=future_date_range, columns=['lower Sales', 'upper Sales'])\n",
    "                else: # Generic forecast without exog, e.g. HoltWinters\n",
    "                    forecast_values_array = loaded_model.forecast(steps=forecast_periods)\n",
    "                    forecast_values = pd.Series(forecast_values_array, index=future_date_range)\n",
    "                    confidence_intervals_df = pd.DataFrame({'lower Sales': np.nan, 'upper Sales': np.nan}, index=future_date_range)\n",
    "        elif hasattr(loaded_model, 'predict'): # General sklearn style (no conf int by default)\n",
    "            pred_array = loaded_model.predict(future_exog_df if future_exog_df is not None else np.arange(forecast_periods).reshape(-1,1)) # Basic X for sklearn\n",
    "            forecast_values = pd.Series(pred_array, index=future_date_range)\n",
    "            confidence_intervals_df = pd.DataFrame({'lower Sales': np.nan, 'upper Sales': np.nan}, index=future_date_range)\n",
    "        else:\n",
    "            raise NotImplementedError(\"Model does not have a recognized 'predict' or 'forecast' method.\")\n",
    "\n",
    "except Exception as e:\n",
    "    print(f\"Error during forecast generation: {e}\")\n",
    "    # Create dummy forecast Series and DataFrame for placeholder if error occurs\n",
    "    forecast_values = pd.Series([np.nan] * forecast_periods, index=future_date_range)\n",
    "    confidence_intervals_df = pd.DataFrame({'lower Sales': [np.nan] * forecast_periods, \n",
    "                                          'upper Sales': [np.nan] * forecast_periods}, \n",
    "                                         index=future_date_range)\n",
    "    print(\"Dummy forecast data (NaNs) will be used due to error.\")\n",
    "\n",
    "# Ensure column names are consistent for confidence intervals if they were created\n",
    "if 'lower Sales' not in confidence_intervals_df.columns or 'upper Sales' not in confidence_intervals_df.columns:\n",
    "    # Attempt to rename if common alternatives like 0 and 1, or 'lower' and 'upper' exist\n",
    "    if 0 in confidence_intervals_df.columns and 1 in confidence_intervals_df.columns:\n",
    "        confidence_intervals_df.rename(columns={0: 'lower Sales', 1: 'upper Sales'}, inplace=True)\n",
    "    # Add more robust renaming or ensure columns are named correctly when CI are generated by specific models\n",
    "    # For now, if names are not as expected, they might not plot correctly."
   ]
  },
  {
   "cell_type": "markdown",
   "metadata": {},
   "source": [
    "## 8. Visualize Forecasts"
   ]
  },
  {
   "cell_type": "code",
   "execution_count": null,
   "metadata": {},
   "outputs": [],
   "source": [
    "plt.figure(figsize=(15, 7))\n",
    "\n",
    "# Plot historical data (e.g., last N days/weeks of historical data)\n",
    "historical_plot_periods = 365 # Show last year of actuals\n",
    "if len(daily_sales_historical) > historical_plot_periods:\n",
    "    plot_historical_data = daily_sales_historical.iloc[-historical_plot_periods:]\n",
    "else:\n",
    "    plot_historical_data = daily_sales_historical\n",
    "\n",
    "plt.plot(plot_historical_data.index, plot_historical_data.values, label='Historical Daily Sales')\n",
    "\n",
    "# Plot forecasted values\n",
    "if forecast_values is not None:\n",
    "    plt.plot(forecast_values.index, forecast_values.values, label='Forecasted Sales', color='green')\n",
    "else:\n",
    "    print(\"Forecast values are not available for plotting.\")\n",
    "\n",
    "# Plot confidence intervals\n",
    "if confidence_intervals_df is not None and 'lower Sales' in confidence_intervals_df and 'upper Sales' in confidence_intervals_df:\n",
    "    plt.fill_between(confidence_intervals_df.index, \n",
    "                     confidence_intervals_df['lower Sales'], \n",
    "                     confidence_intervals_df['upper Sales'], \n",
    "                     color='g', alpha=0.2, label='95% Confidence Interval')\n",
    "else:\n",
    "    print(\"Confidence intervals are not available or not correctly formatted for plotting.\")\n",
    "\n",
    "plt.title(f'Sales Forecast for Next {forecast_periods} Days')\n",
    "plt.xlabel('Date')\n",
    "plt.ylabel('Sales')\n",
    "plt.legend()\n",
    "plt.grid(True)\n",
    "plt.show()"
   ]
  },
  {
   "cell_type": "markdown",
   "metadata": {},
   "source": [
    "## 9. Present Forecasted Data"
   ]
  },
  {
   "cell_type": "code",
   "execution_count": null,
   "metadata": {},
   "outputs": [],
   "source": [
    "if forecast_values is not None:\n",
    "    forecast_df = pd.DataFrame({'Date': forecast_values.index, 'Forecasted_Sales': forecast_values.values})\n",
    "    if confidence_intervals_df is not None and 'lower Sales' in confidence_intervals_df and 'upper Sales' in confidence_intervals_df:\n",
    "        forecast_df['Lower_CI'] = confidence_intervals_df['lower Sales'].values\n",
    "        forecast_df['Upper_CI'] = confidence_intervals_df['upper Sales'].values\n",
    "    \n",
    "    forecast_df.set_index('Date', inplace=True)\n",
    "    print(f\"\\nForecasted Sales for the next {forecast_periods} days:\")\n",
    "    print(forecast_df.head())\n",
    "    \n",
    "    # Option to save the forecast to a CSV file\n",
    "    # forecast_csv_path = '../data/future_sales_forecast.csv'\n",
    "    # forecast_df.to_csv(forecast_csv_path)\n",
    "    # print(f\"\\nForecast saved to {forecast_csv_path}\")\n",
    "else:\n",
    "    print(\"No forecast data to display.\")"
   ]
  }
 ],
 "metadata": {
  "kernelspec": {
   "display_name": "Python 3",
   "language": "python",
   "name": "python3"
  },
  "language_info": {
   "codemirror_mode": {
    "name": "ipython",
    "version": 3
   },
   "file_extension": ".py",
   "mimetype": "text/x-python",
   "name": "python",
   "nbconvert_exporter": "python",
   "pygments_lexer": "ipython3",
   "version": "3.8.10"
  }
 },
 "nbformat": 4,
 "nbformat_minor": 4
}
